{
 "cells":[
  {
   "cell_type":"markdown",
   "source":[
    "# Sheet"
   ],
   "attachments":{},
   "metadata":{
    "datalore":{
     "node_id":"Sheet",
     "type":"MD",
     "hide_input_from_viewers":false,
     "hide_output_from_viewers":false,
     "sheet_delimiter":true
    }
   }
  },
  {
   "cell_type":"code",
   "source":[
    "print(\"some text for the report!\")"
   ],
   "execution_count":1,
   "outputs":[
    {
     "name":"stdout",
     "text":[
      "some text for the report!\n"
     ],
     "output_type":"stream"
    }
   ],
   "metadata":{
    "datalore":{
     "node_id":"IhPDuV3IUJtGvsuQpw1IYk",
     "type":"CODE",
     "hide_input_from_viewers":false,
     "hide_output_from_viewers":false,
     "report_properties":{
      "rowId":"5th4RNWzRUJbYXFnbHTXUY",
      "relativeY":0
     }
    }
   }
  },
  {
   "cell_type":"code",
   "source":[
    "CREATE TABLE Airlines(\n",
    "    Airline_ID INT PRIMARY KEY     NOT NULL,\n",
    "    Airline_Name           TEXT    NOT NULL,\n",
    "    Country        CHAR(50),\n",
    "    IATA            CHAR(3),\n",
    "    ICAO           CHAR(4)\n",
    ");"
   ],
   "execution_count":2,
   "outputs":[
    {
     "name":"stderr",
     "text":[
      "No result set received\n"
     ],
     "output_type":"stream"
    }
   ],
   "metadata":{
    "datalore":{
     "node_id":"FnrCMMmarBI48I31wNhChd",
     "type":"SQL",
     "hide_input_from_viewers":true,
     "hide_output_from_viewers":true,
     "sql_cell_properties":{
      "dbId":"-2",
      "variableName":"df_1",
      "dialect":"SQLite",
      "sandboxMode":false
     }
    }
   }
  },
  {
   "cell_type":"code",
   "source":[],
   "execution_count":null,
   "outputs":[],
   "metadata":{
    "datalore":{
     "node_id":"0AVWAxGZRSjDkqXOKZclH1",
     "type":"SQL",
     "hide_input_from_viewers":true,
     "hide_output_from_viewers":true,
     "sql_cell_properties":{
      "dbId":"-2",
      "variableName":"df_9",
      "dialect":"SQLite",
      "sandboxMode":false
     }
    }
   }
  },
  {
   "cell_type":"code",
   "source":[
    "INSERT INTO Airlines(Airline_ID, Airline_Name, Country, IATA, ICAO) \n",
    "VALUES (1, 'Test Airlines', 'United States', 'TAL', 'TEST');"
   ],
   "execution_count":3,
   "outputs":[
    {
     "ename":"IntegrityError",
     "evalue":"IntegrityError: UNIQUE constraint failed: Airlines.Airline_ID",
     "traceback":[
      "\u001b[0;31m---------------------------------------------------------------------------",
      "Traceback (most recent call last)",
      "    at line 1 in <module>",
      "    at line 57 in _datalore_internal_python_execute_sqlite_sql_query(sql_query, filename, parameters)",
      "IntegrityError: UNIQUE constraint failed: Airlines.Airline_ID"
     ],
     "output_type":"error"
    }
   ],
   "metadata":{
    "datalore":{
     "node_id":"mJIWKTDo7NGwWwNvovy7Qo",
     "type":"SQL",
     "hide_input_from_viewers":true,
     "hide_output_from_viewers":true,
     "sql_cell_properties":{
      "dbId":"-2",
      "variableName":"df_8",
      "dialect":"SQLite",
      "sandboxMode":false
     }
    }
   }
  },
  {
   "cell_type":"code",
   "source":[
    "SELECT * FROM Airlines"
   ],
   "execution_count":4,
   "outputs":[
    {
     "data":{
      "text\/html":[
       "<div>\n",
       "<style scoped>\n",
       "    .dataframe tbody tr th:only-of-type {\n",
       "        vertical-align: middle;\n",
       "    }\n",
       "\n",
       "    .dataframe tbody tr th {\n",
       "        vertical-align: top;\n",
       "    }\n",
       "\n",
       "    .dataframe thead th {\n",
       "        text-align: right;\n",
       "    }\n",
       "<\/style>\n",
       "<table border=\"1\" class=\"dataframe\">\n",
       "  <thead>\n",
       "    <tr style=\"text-align: right;\">\n",
       "      <th><\/th>\n",
       "      <th>Airline_ID<\/th>\n",
       "      <th>Airline_Name<\/th>\n",
       "      <th>Country<\/th>\n",
       "      <th>IATA<\/th>\n",
       "      <th>ICAO<\/th>\n",
       "    <\/tr>\n",
       "  <\/thead>\n",
       "  <tbody>\n",
       "  <\/tbody>\n",
       "<\/table>\n",
       "<\/div>"
      ]
     },
     "metadata":{},
     "output_type":"display_data"
    }
   ],
   "metadata":{
    "datalore":{
     "node_id":"ctTMnqFQES8ZYBbZcgEvNE",
     "type":"SQL",
     "hide_input_from_viewers":true,
     "hide_output_from_viewers":true,
     "sql_cell_properties":{
      "dbId":"-2",
      "variableName":"df_7",
      "dialect":"SQLite",
      "sandboxMode":false
     }
    }
   }
  },
  {
   "cell_type":"code",
   "source":[
    "import pandas as pd\n",
    "df = pd.DataFrame({'A': [111, 222], 'B': [333, 444]})"
   ],
   "execution_count":4,
   "outputs":[],
   "metadata":{
    "datalore":{
     "node_id":"uFByEkoAlHrs2hGoKv7MHr",
     "type":"CODE",
     "hide_input_from_viewers":true,
     "hide_output_from_viewers":true
    }
   }
  },
  {
   "cell_type":"code",
   "source":[
    "select * from df"
   ],
   "execution_count":7,
   "outputs":[
    {
     "data":{
      "text\/html":[
       "<div>\n",
       "<style scoped>\n",
       "    .dataframe tbody tr th:only-of-type {\n",
       "        vertical-align: middle;\n",
       "    }\n",
       "\n",
       "    .dataframe tbody tr th {\n",
       "        vertical-align: top;\n",
       "    }\n",
       "\n",
       "    .dataframe thead th {\n",
       "        text-align: right;\n",
       "    }\n",
       "<\/style>\n",
       "<table border=\"1\" class=\"dataframe\">\n",
       "  <thead>\n",
       "    <tr style=\"text-align: right;\">\n",
       "      <th><\/th>\n",
       "      <th>A<\/th>\n",
       "      <th>B<\/th>\n",
       "    <\/tr>\n",
       "  <\/thead>\n",
       "  <tbody>\n",
       "    <tr>\n",
       "      <th>0<\/th>\n",
       "      <td>111<\/td>\n",
       "      <td>333<\/td>\n",
       "    <\/tr>\n",
       "    <tr>\n",
       "      <th>1<\/th>\n",
       "      <td>222<\/td>\n",
       "      <td>444<\/td>\n",
       "    <\/tr>\n",
       "  <\/tbody>\n",
       "<\/table>\n",
       "<\/div>"
      ]
     },
     "metadata":{},
     "output_type":"display_data"
    }
   ],
   "metadata":{
    "datalore":{
     "node_id":"RN4V9qrUOASJ3pjaXqyskE",
     "type":"SQL",
     "hide_input_from_viewers":true,
     "hide_output_from_viewers":true,
     "sql_cell_properties":{
      "dbId":"-2",
      "variableName":"df_6",
      "dialect":"SQLite",
      "sandboxMode":false
     }
    }
   }
  },
  {
   "cell_type":"code",
   "source":[
    "INSERT INTO Students (ID, NAME, AGE, ADDRESS, MARKS)\n",
    "VALUES (1, 'John', 20, '21 Jump Street', 85),\n",
    "       (2, 'Jane', 22, '31 Baker Street', 90),\n",
    "       (3, 'Dave', 23, '41 Cherry Street', 95),\n",
    "       (4, 'Emma', 21, '51 Pine Street', 88),\n",
    "       (5, 'Tom', 20, '61 North Street', 91);"
   ],
   "execution_count":0,
   "outputs":[
    {
     "ename":"SQLError",
     "evalue":"SQLError: No sqlite filename is provided",
     "traceback":[
      "\u001b[0;31m---------------------------------------------------------------------------",
      "Traceback (most recent call last)",
      "SQLError: No sqlite filename is provided"
     ],
     "output_type":"error"
    }
   ],
   "metadata":{
    "datalore":{
     "node_id":"xxz95qoAhHo5dd2PX7dgDv",
     "type":"SQL",
     "hide_input_from_viewers":true,
     "hide_output_from_viewers":true,
     "sql_cell_properties":{
      "dbId":"-2",
      "variableName":"df_3",
      "dialect":"SQLite",
      "sandboxMode":false
     }
    }
   }
  },
  {
   "cell_type":"code",
   "source":[
    "INSERT INTO Students(ID, NAME, AGE, ADDRESS, MARKS)\n",
    "VALUES (1, 'Student1', 20, 'Address1', 85),\n",
    "       (2, 'Student2', 21, 'Address2', 90),\n",
    "       (3, 'Student3', 22, 'Address3', 95),\n",
    "       (4, 'Student4', 23, 'Address4', 100),\n",
    "       (5, 'Student5', 24, 'Address5', 105);"
   ],
   "execution_count":0,
   "outputs":[
    {
     "ename":"SQLError",
     "evalue":"SQLError: No sqlite filename is provided",
     "traceback":[
      "\u001b[0;31m---------------------------------------------------------------------------",
      "Traceback (most recent call last)",
      "SQLError: No sqlite filename is provided"
     ],
     "output_type":"error"
    }
   ],
   "metadata":{
    "datalore":{
     "node_id":"J2B9AyD4JBTodmqQ7FJ5dk",
     "type":"SQL",
     "hide_input_from_viewers":true,
     "hide_output_from_viewers":true,
     "sql_cell_properties":{
      "dbId":"-2",
      "variableName":"df_2",
      "dialect":"SQLite",
      "sandboxMode":false
     }
    }
   }
  },
  {
   "cell_type":"code",
   "source":[
    "INSERT INTO Students(ID, NAME, AGE, ADDRESS, MARKS)\n",
    "VALUES (1, 'Student1', 20, 'Address1', 85),\n",
    "       (2, 'Student2', 21, 'Address2', 90),\n",
    "       (3, 'Student3', 22, 'Address3', 95),\n",
    "       (4, 'Student4', 23, 'Address4', 100),\n",
    "       (5, 'Student5', 24, 'Address5', 105);"
   ],
   "execution_count":4,
   "outputs":[
    {
     "name":"stderr",
     "text":[
      "No result set received\n"
     ],
     "output_type":"stream"
    }
   ],
   "metadata":{
    "datalore":{
     "node_id":"fC0s0rOCagac6dnUyMcglf",
     "type":"SQL",
     "hide_input_from_viewers":true,
     "hide_output_from_viewers":true,
     "sql_cell_properties":{
      "dbId":"-2",
      "variableName":"df_4",
      "dialect":"SQLite",
      "sandboxMode":false
     }
    }
   }
  },
  {
   "cell_type":"code",
   "source":[
    "SELECT * FROM Students"
   ],
   "execution_count":7,
   "outputs":[
    {
     "ename":"DatabaseError",
     "evalue":"DatabaseError: database disk image is malformed",
     "traceback":[
      "\u001b[0;31m---------------------------------------------------------------------------",
      "Traceback (most recent call last)",
      "    at line 1 in <module>",
      "    at line 57 in _datalore_internal_python_execute_sqlite_sql_query(sql_query, filename, parameters)",
      "DatabaseError: database disk image is malformed"
     ],
     "output_type":"error"
    }
   ],
   "metadata":{
    "datalore":{
     "node_id":"KqOnY02kz12t6AtyCGcVzj",
     "type":"SQL",
     "hide_input_from_viewers":true,
     "hide_output_from_viewers":true,
     "sql_cell_properties":{
      "dbId":"-2",
      "variableName":"df_5",
      "dialect":"SQLite",
      "sandboxMode":false
     }
    }
   }
  },
  {
   "cell_type":"code",
   "source":[],
   "execution_count":null,
   "outputs":[],
   "metadata":{
    "datalore":{
     "node_id":"e9ebH5X3qI8EkO4Vg2WQGK",
     "type":"SQL",
     "hide_input_from_viewers":true,
     "hide_output_from_viewers":true,
     "sql_cell_properties":{
      "dbId":"-1",
      "variableName":"df_10",
      "dialect":"Dataframes",
      "sandboxMode":false
     }
    }
   }
  },
  {
   "cell_type":"markdown",
   "source":[
    "# Sheet 2"
   ],
   "attachments":{},
   "metadata":{
    "datalore":{
     "node_id":"Sheet 2",
     "type":"MD",
     "hide_input_from_viewers":false,
     "hide_output_from_viewers":false,
     "sheet_delimiter":true
    }
   }
  },
  {
   "cell_type":"code",
   "source":[
    "import pandas as pd\n",
    "import numpy.random as np\n",
    "\n",
    "df = pd.DataFrame(np.rand(5, 1), columns=['This_is_a_very_long_column_name_1'])"
   ],
   "execution_count":1,
   "outputs":[],
   "metadata":{
    "datalore":{
     "node_id":"jRQGH4zxGwdEnwdj0FYAK5",
     "type":"CODE",
     "hide_input_from_viewers":true,
     "hide_output_from_viewers":true
    }
   }
  },
  {
   "cell_type":"code",
   "source":[
    "select * from df"
   ],
   "execution_count":3,
   "outputs":[
    {
     "data":{
      "text\/html":[
       "<div>\n",
       "<style scoped>\n",
       "    .dataframe tbody tr th:only-of-type {\n",
       "        vertical-align: middle;\n",
       "    }\n",
       "\n",
       "    .dataframe tbody tr th {\n",
       "        vertical-align: top;\n",
       "    }\n",
       "\n",
       "    .dataframe thead th {\n",
       "        text-align: right;\n",
       "    }\n",
       "<\/style>\n",
       "<table border=\"1\" class=\"dataframe\">\n",
       "  <thead>\n",
       "    <tr style=\"text-align: right;\">\n",
       "      <th><\/th>\n",
       "      <th>This_is_a_very_long_column_name_1<\/th>\n",
       "    <\/tr>\n",
       "  <\/thead>\n",
       "  <tbody>\n",
       "    <tr>\n",
       "      <th>0<\/th>\n",
       "      <td>0.638681<\/td>\n",
       "    <\/tr>\n",
       "    <tr>\n",
       "      <th>1<\/th>\n",
       "      <td>0.481886<\/td>\n",
       "    <\/tr>\n",
       "    <tr>\n",
       "      <th>2<\/th>\n",
       "      <td>0.325397<\/td>\n",
       "    <\/tr>\n",
       "    <tr>\n",
       "      <th>3<\/th>\n",
       "      <td>0.788463<\/td>\n",
       "    <\/tr>\n",
       "    <tr>\n",
       "      <th>4<\/th>\n",
       "      <td>0.684205<\/td>\n",
       "    <\/tr>\n",
       "  <\/tbody>\n",
       "<\/table>\n",
       "<\/div>"
      ]
     },
     "metadata":{},
     "output_type":"display_data"
    }
   ],
   "metadata":{
    "datalore":{
     "node_id":"vMbZtbL76j5AYAccPq0C3e",
     "type":"SQL",
     "hide_input_from_viewers":true,
     "hide_output_from_viewers":true,
     "sql_cell_properties":{
      "dbId":"9q9cBYfMpGGT0KXz9Orw0f",
      "variableName":"df_11",
      "dialect":"oracle.19",
      "sandboxMode":false
     }
    }
   }
  }
 ],
 "metadata":{
  "kernelspec":{
   "display_name":"Python",
   "language":"python",
   "name":"python"
  },
  "datalore":{
   "computation_mode":"JUPYTER",
   "package_manager":"pip",
   "base_environment":"default",
   "packages":[],
   "report_row_ids":[
    "5th4RNWzRUJbYXFnbHTXUY"
   ],
   "report_link":"https:\/\/staging.internal.datalore.io\/report\/9xriZl1T0HIYRD1VCN4Rxo\/eC9GPBZqnm3rBkURatP5aC",
   "version":3
  }
 },
 "nbformat":4,
 "nbformat_minor":4
}